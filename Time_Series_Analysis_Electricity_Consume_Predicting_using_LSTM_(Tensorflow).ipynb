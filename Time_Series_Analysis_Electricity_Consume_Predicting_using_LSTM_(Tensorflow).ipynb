{
  "nbformat": 4,
  "nbformat_minor": 0,
  "metadata": {
    "colab": {
      "name": "Time Series Analysis - Electricity Consume Predicting using LSTM (Tensorflow).ipynb",
      "provenance": [],
      "collapsed_sections": [],
      "authorship_tag": "ABX9TyNBmnNRkDaErKA5h9V7yEkv",
      "include_colab_link": true
    },
    "kernelspec": {
      "name": "python3",
      "display_name": "Python 3"
    },
    "language_info": {
      "name": "python"
    },
    "accelerator": "GPU"
  },
  "cells": [
    {
      "cell_type": "markdown",
      "metadata": {
        "id": "view-in-github",
        "colab_type": "text"
      },
      "source": [
        "<a href=\"https://colab.research.google.com/github/Aras1703/LSTM-Electrical_Consume_Prediction/blob/main/Time_Series_Analysis_Electricity_Consume_Predicting_using_LSTM_(Tensorflow).ipynb\" target=\"_parent\"><img src=\"https://colab.research.google.com/assets/colab-badge.svg\" alt=\"Open In Colab\"/></a>"
      ]
    },
    {
      "cell_type": "markdown",
      "metadata": {
        "id": "Jpn9sI2iuucM"
      },
      "source": [
        "#**Import Library**"
      ]
    },
    {
      "cell_type": "code",
      "metadata": {
        "id": "5Chhhf0fEDTW"
      },
      "source": [
        "from datetime import datetime, timedelta\n",
        "from dateutil import parser\n",
        "import numpy as np \n",
        "import pandas as pd\n",
        "import matplotlib.pyplot as plt\n",
        "import seaborn as sns\n",
        "from sklearn.model_selection import train_test_split\n",
        "from sklearn.preprocessing import StandardScaler\n",
        "from sklearn.preprocessing import MinMaxScaler\n",
        "from keras.layers import Dense\n",
        "from keras.models import Sequential\n",
        "from keras.layers import LSTM\n",
        "from datetime import datetime\n",
        "import requests\n",
        "import tensorflow as tf\n",
        "from sklearn.metrics import explained_variance_score\n",
        "from sklearn.metrics import mean_absolute_error\n",
        "from sklearn.metrics import mean_squared_error\n",
        "from sklearn.metrics import r2_score"
      ],
      "execution_count": null,
      "outputs": []
    },
    {
      "cell_type": "markdown",
      "metadata": {
        "id": "pTRym_Iou1Wv"
      },
      "source": [
        "#**Import Data**"
      ]
    },
    {
      "cell_type": "code",
      "metadata": {
        "colab": {
          "base_uri": "https://localhost:8080/",
          "height": 424
        },
        "id": "3gqLzHSWEH8X",
        "outputId": "d8837fd5-2383-40f6-d1c2-fd37d01c344a"
      },
      "source": [
        "df = pd.read_csv('opsd_germany_daily.csv')\n",
        "df"
      ],
      "execution_count": null,
      "outputs": [
        {
          "output_type": "execute_result",
          "data": {
            "text/plain": [
              "            Date  Consumption     Wind   Solar  Wind+Solar\n",
              "0       1/1/2006   1069.18400      NaN     NaN         NaN\n",
              "1       1/2/2006   1380.52100      NaN     NaN         NaN\n",
              "2       1/3/2006   1442.53300      NaN     NaN         NaN\n",
              "3       1/4/2006   1457.21700      NaN     NaN         NaN\n",
              "4       1/5/2006   1477.13100      NaN     NaN         NaN\n",
              "...          ...          ...      ...     ...         ...\n",
              "4378  12/27/2017   1263.94091  394.507  16.530     411.037\n",
              "4379  12/28/2017   1299.86398  506.424  14.162     520.586\n",
              "4380  12/29/2017   1295.08753  584.277  29.854     614.131\n",
              "4381  12/30/2017   1215.44897  721.247   7.467     728.714\n",
              "4382  12/31/2017   1107.11488  721.176  19.980     741.156\n",
              "\n",
              "[4383 rows x 5 columns]"
            ],
            "text/html": [
              "\n",
              "  <div id=\"df-34b2e573-c90e-4deb-b044-7ccdd0246485\">\n",
              "    <div class=\"colab-df-container\">\n",
              "      <div>\n",
              "<style scoped>\n",
              "    .dataframe tbody tr th:only-of-type {\n",
              "        vertical-align: middle;\n",
              "    }\n",
              "\n",
              "    .dataframe tbody tr th {\n",
              "        vertical-align: top;\n",
              "    }\n",
              "\n",
              "    .dataframe thead th {\n",
              "        text-align: right;\n",
              "    }\n",
              "</style>\n",
              "<table border=\"1\" class=\"dataframe\">\n",
              "  <thead>\n",
              "    <tr style=\"text-align: right;\">\n",
              "      <th></th>\n",
              "      <th>Date</th>\n",
              "      <th>Consumption</th>\n",
              "      <th>Wind</th>\n",
              "      <th>Solar</th>\n",
              "      <th>Wind+Solar</th>\n",
              "    </tr>\n",
              "  </thead>\n",
              "  <tbody>\n",
              "    <tr>\n",
              "      <th>0</th>\n",
              "      <td>1/1/2006</td>\n",
              "      <td>1069.18400</td>\n",
              "      <td>NaN</td>\n",
              "      <td>NaN</td>\n",
              "      <td>NaN</td>\n",
              "    </tr>\n",
              "    <tr>\n",
              "      <th>1</th>\n",
              "      <td>1/2/2006</td>\n",
              "      <td>1380.52100</td>\n",
              "      <td>NaN</td>\n",
              "      <td>NaN</td>\n",
              "      <td>NaN</td>\n",
              "    </tr>\n",
              "    <tr>\n",
              "      <th>2</th>\n",
              "      <td>1/3/2006</td>\n",
              "      <td>1442.53300</td>\n",
              "      <td>NaN</td>\n",
              "      <td>NaN</td>\n",
              "      <td>NaN</td>\n",
              "    </tr>\n",
              "    <tr>\n",
              "      <th>3</th>\n",
              "      <td>1/4/2006</td>\n",
              "      <td>1457.21700</td>\n",
              "      <td>NaN</td>\n",
              "      <td>NaN</td>\n",
              "      <td>NaN</td>\n",
              "    </tr>\n",
              "    <tr>\n",
              "      <th>4</th>\n",
              "      <td>1/5/2006</td>\n",
              "      <td>1477.13100</td>\n",
              "      <td>NaN</td>\n",
              "      <td>NaN</td>\n",
              "      <td>NaN</td>\n",
              "    </tr>\n",
              "    <tr>\n",
              "      <th>...</th>\n",
              "      <td>...</td>\n",
              "      <td>...</td>\n",
              "      <td>...</td>\n",
              "      <td>...</td>\n",
              "      <td>...</td>\n",
              "    </tr>\n",
              "    <tr>\n",
              "      <th>4378</th>\n",
              "      <td>12/27/2017</td>\n",
              "      <td>1263.94091</td>\n",
              "      <td>394.507</td>\n",
              "      <td>16.530</td>\n",
              "      <td>411.037</td>\n",
              "    </tr>\n",
              "    <tr>\n",
              "      <th>4379</th>\n",
              "      <td>12/28/2017</td>\n",
              "      <td>1299.86398</td>\n",
              "      <td>506.424</td>\n",
              "      <td>14.162</td>\n",
              "      <td>520.586</td>\n",
              "    </tr>\n",
              "    <tr>\n",
              "      <th>4380</th>\n",
              "      <td>12/29/2017</td>\n",
              "      <td>1295.08753</td>\n",
              "      <td>584.277</td>\n",
              "      <td>29.854</td>\n",
              "      <td>614.131</td>\n",
              "    </tr>\n",
              "    <tr>\n",
              "      <th>4381</th>\n",
              "      <td>12/30/2017</td>\n",
              "      <td>1215.44897</td>\n",
              "      <td>721.247</td>\n",
              "      <td>7.467</td>\n",
              "      <td>728.714</td>\n",
              "    </tr>\n",
              "    <tr>\n",
              "      <th>4382</th>\n",
              "      <td>12/31/2017</td>\n",
              "      <td>1107.11488</td>\n",
              "      <td>721.176</td>\n",
              "      <td>19.980</td>\n",
              "      <td>741.156</td>\n",
              "    </tr>\n",
              "  </tbody>\n",
              "</table>\n",
              "<p>4383 rows × 5 columns</p>\n",
              "</div>\n",
              "      <button class=\"colab-df-convert\" onclick=\"convertToInteractive('df-34b2e573-c90e-4deb-b044-7ccdd0246485')\"\n",
              "              title=\"Convert this dataframe to an interactive table.\"\n",
              "              style=\"display:none;\">\n",
              "        \n",
              "  <svg xmlns=\"http://www.w3.org/2000/svg\" height=\"24px\"viewBox=\"0 0 24 24\"\n",
              "       width=\"24px\">\n",
              "    <path d=\"M0 0h24v24H0V0z\" fill=\"none\"/>\n",
              "    <path d=\"M18.56 5.44l.94 2.06.94-2.06 2.06-.94-2.06-.94-.94-2.06-.94 2.06-2.06.94zm-11 1L8.5 8.5l.94-2.06 2.06-.94-2.06-.94L8.5 2.5l-.94 2.06-2.06.94zm10 10l.94 2.06.94-2.06 2.06-.94-2.06-.94-.94-2.06-.94 2.06-2.06.94z\"/><path d=\"M17.41 7.96l-1.37-1.37c-.4-.4-.92-.59-1.43-.59-.52 0-1.04.2-1.43.59L10.3 9.45l-7.72 7.72c-.78.78-.78 2.05 0 2.83L4 21.41c.39.39.9.59 1.41.59.51 0 1.02-.2 1.41-.59l7.78-7.78 2.81-2.81c.8-.78.8-2.07 0-2.86zM5.41 20L4 18.59l7.72-7.72 1.47 1.35L5.41 20z\"/>\n",
              "  </svg>\n",
              "      </button>\n",
              "      \n",
              "  <style>\n",
              "    .colab-df-container {\n",
              "      display:flex;\n",
              "      flex-wrap:wrap;\n",
              "      gap: 12px;\n",
              "    }\n",
              "\n",
              "    .colab-df-convert {\n",
              "      background-color: #E8F0FE;\n",
              "      border: none;\n",
              "      border-radius: 50%;\n",
              "      cursor: pointer;\n",
              "      display: none;\n",
              "      fill: #1967D2;\n",
              "      height: 32px;\n",
              "      padding: 0 0 0 0;\n",
              "      width: 32px;\n",
              "    }\n",
              "\n",
              "    .colab-df-convert:hover {\n",
              "      background-color: #E2EBFA;\n",
              "      box-shadow: 0px 1px 2px rgba(60, 64, 67, 0.3), 0px 1px 3px 1px rgba(60, 64, 67, 0.15);\n",
              "      fill: #174EA6;\n",
              "    }\n",
              "\n",
              "    [theme=dark] .colab-df-convert {\n",
              "      background-color: #3B4455;\n",
              "      fill: #D2E3FC;\n",
              "    }\n",
              "\n",
              "    [theme=dark] .colab-df-convert:hover {\n",
              "      background-color: #434B5C;\n",
              "      box-shadow: 0px 1px 3px 1px rgba(0, 0, 0, 0.15);\n",
              "      filter: drop-shadow(0px 1px 2px rgba(0, 0, 0, 0.3));\n",
              "      fill: #FFFFFF;\n",
              "    }\n",
              "  </style>\n",
              "\n",
              "      <script>\n",
              "        const buttonEl =\n",
              "          document.querySelector('#df-34b2e573-c90e-4deb-b044-7ccdd0246485 button.colab-df-convert');\n",
              "        buttonEl.style.display =\n",
              "          google.colab.kernel.accessAllowed ? 'block' : 'none';\n",
              "\n",
              "        async function convertToInteractive(key) {\n",
              "          const element = document.querySelector('#df-34b2e573-c90e-4deb-b044-7ccdd0246485');\n",
              "          const dataTable =\n",
              "            await google.colab.kernel.invokeFunction('convertToInteractive',\n",
              "                                                     [key], {});\n",
              "          if (!dataTable) return;\n",
              "\n",
              "          const docLinkHtml = 'Like what you see? Visit the ' +\n",
              "            '<a target=\"_blank\" href=https://colab.research.google.com/notebooks/data_table.ipynb>data table notebook</a>'\n",
              "            + ' to learn more about interactive tables.';\n",
              "          element.innerHTML = '';\n",
              "          dataTable['output_type'] = 'display_data';\n",
              "          await google.colab.output.renderOutput(dataTable, element);\n",
              "          const docLink = document.createElement('div');\n",
              "          docLink.innerHTML = docLinkHtml;\n",
              "          element.appendChild(docLink);\n",
              "        }\n",
              "      </script>\n",
              "    </div>\n",
              "  </div>\n",
              "  "
            ]
          },
          "metadata": {},
          "execution_count": 2
        }
      ]
    },
    {
      "cell_type": "markdown",
      "metadata": {
        "id": "UqPgHd1xu9Qg"
      },
      "source": [
        "#**Feature Selection**"
      ]
    },
    {
      "cell_type": "code",
      "metadata": {
        "colab": {
          "base_uri": "https://localhost:8080/",
          "height": 646
        },
        "id": "30ju3XU3EYdm",
        "outputId": "de0f0137-ea40-46ab-b835-3a982373cc49"
      },
      "source": [
        "df = df[['Date', 'Consumption']]\n",
        "df['Date'] = pd.to_datetime(df['Date'])\n",
        "df.set_index(df['Date'],inplace=True)\n",
        "df.drop(columns='Date', axis=1, inplace=True)\n",
        "df"
      ],
      "execution_count": null,
      "outputs": [
        {
          "output_type": "stream",
          "name": "stderr",
          "text": [
            "/usr/local/lib/python3.7/dist-packages/ipykernel_launcher.py:2: SettingWithCopyWarning: \n",
            "A value is trying to be set on a copy of a slice from a DataFrame.\n",
            "Try using .loc[row_indexer,col_indexer] = value instead\n",
            "\n",
            "See the caveats in the documentation: https://pandas.pydata.org/pandas-docs/stable/user_guide/indexing.html#returning-a-view-versus-a-copy\n",
            "  \n",
            "/usr/local/lib/python3.7/dist-packages/pandas/core/frame.py:4913: SettingWithCopyWarning: \n",
            "A value is trying to be set on a copy of a slice from a DataFrame\n",
            "\n",
            "See the caveats in the documentation: https://pandas.pydata.org/pandas-docs/stable/user_guide/indexing.html#returning-a-view-versus-a-copy\n",
            "  errors=errors,\n"
          ]
        },
        {
          "output_type": "execute_result",
          "data": {
            "text/plain": [
              "            Consumption\n",
              "Date                   \n",
              "2006-01-01   1069.18400\n",
              "2006-01-02   1380.52100\n",
              "2006-01-03   1442.53300\n",
              "2006-01-04   1457.21700\n",
              "2006-01-05   1477.13100\n",
              "...                 ...\n",
              "2017-12-27   1263.94091\n",
              "2017-12-28   1299.86398\n",
              "2017-12-29   1295.08753\n",
              "2017-12-30   1215.44897\n",
              "2017-12-31   1107.11488\n",
              "\n",
              "[4383 rows x 1 columns]"
            ],
            "text/html": [
              "\n",
              "  <div id=\"df-ed7e5118-1668-4893-9ad2-ada381ea27ca\">\n",
              "    <div class=\"colab-df-container\">\n",
              "      <div>\n",
              "<style scoped>\n",
              "    .dataframe tbody tr th:only-of-type {\n",
              "        vertical-align: middle;\n",
              "    }\n",
              "\n",
              "    .dataframe tbody tr th {\n",
              "        vertical-align: top;\n",
              "    }\n",
              "\n",
              "    .dataframe thead th {\n",
              "        text-align: right;\n",
              "    }\n",
              "</style>\n",
              "<table border=\"1\" class=\"dataframe\">\n",
              "  <thead>\n",
              "    <tr style=\"text-align: right;\">\n",
              "      <th></th>\n",
              "      <th>Consumption</th>\n",
              "    </tr>\n",
              "    <tr>\n",
              "      <th>Date</th>\n",
              "      <th></th>\n",
              "    </tr>\n",
              "  </thead>\n",
              "  <tbody>\n",
              "    <tr>\n",
              "      <th>2006-01-01</th>\n",
              "      <td>1069.18400</td>\n",
              "    </tr>\n",
              "    <tr>\n",
              "      <th>2006-01-02</th>\n",
              "      <td>1380.52100</td>\n",
              "    </tr>\n",
              "    <tr>\n",
              "      <th>2006-01-03</th>\n",
              "      <td>1442.53300</td>\n",
              "    </tr>\n",
              "    <tr>\n",
              "      <th>2006-01-04</th>\n",
              "      <td>1457.21700</td>\n",
              "    </tr>\n",
              "    <tr>\n",
              "      <th>2006-01-05</th>\n",
              "      <td>1477.13100</td>\n",
              "    </tr>\n",
              "    <tr>\n",
              "      <th>...</th>\n",
              "      <td>...</td>\n",
              "    </tr>\n",
              "    <tr>\n",
              "      <th>2017-12-27</th>\n",
              "      <td>1263.94091</td>\n",
              "    </tr>\n",
              "    <tr>\n",
              "      <th>2017-12-28</th>\n",
              "      <td>1299.86398</td>\n",
              "    </tr>\n",
              "    <tr>\n",
              "      <th>2017-12-29</th>\n",
              "      <td>1295.08753</td>\n",
              "    </tr>\n",
              "    <tr>\n",
              "      <th>2017-12-30</th>\n",
              "      <td>1215.44897</td>\n",
              "    </tr>\n",
              "    <tr>\n",
              "      <th>2017-12-31</th>\n",
              "      <td>1107.11488</td>\n",
              "    </tr>\n",
              "  </tbody>\n",
              "</table>\n",
              "<p>4383 rows × 1 columns</p>\n",
              "</div>\n",
              "      <button class=\"colab-df-convert\" onclick=\"convertToInteractive('df-ed7e5118-1668-4893-9ad2-ada381ea27ca')\"\n",
              "              title=\"Convert this dataframe to an interactive table.\"\n",
              "              style=\"display:none;\">\n",
              "        \n",
              "  <svg xmlns=\"http://www.w3.org/2000/svg\" height=\"24px\"viewBox=\"0 0 24 24\"\n",
              "       width=\"24px\">\n",
              "    <path d=\"M0 0h24v24H0V0z\" fill=\"none\"/>\n",
              "    <path d=\"M18.56 5.44l.94 2.06.94-2.06 2.06-.94-2.06-.94-.94-2.06-.94 2.06-2.06.94zm-11 1L8.5 8.5l.94-2.06 2.06-.94-2.06-.94L8.5 2.5l-.94 2.06-2.06.94zm10 10l.94 2.06.94-2.06 2.06-.94-2.06-.94-.94-2.06-.94 2.06-2.06.94z\"/><path d=\"M17.41 7.96l-1.37-1.37c-.4-.4-.92-.59-1.43-.59-.52 0-1.04.2-1.43.59L10.3 9.45l-7.72 7.72c-.78.78-.78 2.05 0 2.83L4 21.41c.39.39.9.59 1.41.59.51 0 1.02-.2 1.41-.59l7.78-7.78 2.81-2.81c.8-.78.8-2.07 0-2.86zM5.41 20L4 18.59l7.72-7.72 1.47 1.35L5.41 20z\"/>\n",
              "  </svg>\n",
              "      </button>\n",
              "      \n",
              "  <style>\n",
              "    .colab-df-container {\n",
              "      display:flex;\n",
              "      flex-wrap:wrap;\n",
              "      gap: 12px;\n",
              "    }\n",
              "\n",
              "    .colab-df-convert {\n",
              "      background-color: #E8F0FE;\n",
              "      border: none;\n",
              "      border-radius: 50%;\n",
              "      cursor: pointer;\n",
              "      display: none;\n",
              "      fill: #1967D2;\n",
              "      height: 32px;\n",
              "      padding: 0 0 0 0;\n",
              "      width: 32px;\n",
              "    }\n",
              "\n",
              "    .colab-df-convert:hover {\n",
              "      background-color: #E2EBFA;\n",
              "      box-shadow: 0px 1px 2px rgba(60, 64, 67, 0.3), 0px 1px 3px 1px rgba(60, 64, 67, 0.15);\n",
              "      fill: #174EA6;\n",
              "    }\n",
              "\n",
              "    [theme=dark] .colab-df-convert {\n",
              "      background-color: #3B4455;\n",
              "      fill: #D2E3FC;\n",
              "    }\n",
              "\n",
              "    [theme=dark] .colab-df-convert:hover {\n",
              "      background-color: #434B5C;\n",
              "      box-shadow: 0px 1px 3px 1px rgba(0, 0, 0, 0.15);\n",
              "      filter: drop-shadow(0px 1px 2px rgba(0, 0, 0, 0.3));\n",
              "      fill: #FFFFFF;\n",
              "    }\n",
              "  </style>\n",
              "\n",
              "      <script>\n",
              "        const buttonEl =\n",
              "          document.querySelector('#df-ed7e5118-1668-4893-9ad2-ada381ea27ca button.colab-df-convert');\n",
              "        buttonEl.style.display =\n",
              "          google.colab.kernel.accessAllowed ? 'block' : 'none';\n",
              "\n",
              "        async function convertToInteractive(key) {\n",
              "          const element = document.querySelector('#df-ed7e5118-1668-4893-9ad2-ada381ea27ca');\n",
              "          const dataTable =\n",
              "            await google.colab.kernel.invokeFunction('convertToInteractive',\n",
              "                                                     [key], {});\n",
              "          if (!dataTable) return;\n",
              "\n",
              "          const docLinkHtml = 'Like what you see? Visit the ' +\n",
              "            '<a target=\"_blank\" href=https://colab.research.google.com/notebooks/data_table.ipynb>data table notebook</a>'\n",
              "            + ' to learn more about interactive tables.';\n",
              "          element.innerHTML = '';\n",
              "          dataTable['output_type'] = 'display_data';\n",
              "          await google.colab.output.renderOutput(dataTable, element);\n",
              "          const docLink = document.createElement('div');\n",
              "          docLink.innerHTML = docLinkHtml;\n",
              "          element.appendChild(docLink);\n",
              "        }\n",
              "      </script>\n",
              "    </div>\n",
              "  </div>\n",
              "  "
            ]
          },
          "metadata": {},
          "execution_count": 3
        }
      ]
    },
    {
      "cell_type": "code",
      "metadata": {
        "colab": {
          "base_uri": "https://localhost:8080/",
          "height": 497
        },
        "id": "yoGKnGNXGBgs",
        "outputId": "b693368d-5f6d-4c9d-e400-566b76cce2b5"
      },
      "source": [
        "plt.figure(figsize=(18, 8))\n",
        "plt.plot(df['Consumption'])\n",
        "plt.xlabel('Time')\n",
        "plt.ylabel('electricity_consumption')\n",
        "plt.grid(False)\n",
        "plt.show()"
      ],
      "execution_count": null,
      "outputs": [
        {
          "output_type": "display_data",
          "data": {
            "text/plain": [
              "<Figure size 1296x576 with 1 Axes>"
            ],
            "image/png": "[encoded data removed]"
          },
          "metadata": {
            "needs_background": "light"
          }
        }
      ]
    },
    {
      "cell_type": "markdown",
      "metadata": {
        "id": "TNw91PyuvKkV"
      },
      "source": [
        "#**Preprocessing & Dataset Splitting**"
      ]
    },
    {
      "cell_type": "code",
      "metadata": {
        "id": "NIqosziCGT2B"
      },
      "source": [
        "#df = df.values\n",
        "#df"
      ],
      "execution_count": null,
      "outputs": []
    },
    {
      "cell_type": "code",
      "metadata": {
        "colab": {
          "base_uri": "https://localhost:8080/"
        },
        "id": "iP6Iq7smGT9R",
        "outputId": "7c1fea43-28e4-47c9-c1f6-bdad5bf37339"
      },
      "source": [
        "scaler = StandardScaler()\n",
        "scaled_data = scaler.fit_transform(df)\n",
        "scaled_data"
      ],
      "execution_count": null,
      "outputs": [
        {
          "output_type": "execute_result",
          "data": {
            "text/plain": [
              "array([[-1.62582675],\n",
              "       [ 0.25244916],\n",
              "       [ 0.62656353],\n",
              "       ...,\n",
              "       [-0.26296542],\n",
              "       [-0.74341968],\n",
              "       [-1.39699221]])"
            ]
          },
          "metadata": {},
          "execution_count": 6
        }
      ]
    },
    {
      "cell_type": "markdown",
      "source": [
        "#**Train Split Function**"
      ],
      "metadata": {
        "id": "vuH7sc92bibS"
      }
    },
    {
      "cell_type": "code",
      "source": [
        "def train_split(dataframe, split):\n",
        "  data_array = dataframe\n",
        "  training_len = int(np.ceil(len(data_array)*split))\n",
        "  scaled_data = data_array\n",
        "\n",
        "  train_data = scaled_data[0:int(training_len), :]\n",
        "  X_train = []\n",
        "  y_train = []\n",
        "  for i in range(24, len(train_data)):\n",
        "      X_train.append(train_data[i-24:i, 0])\n",
        "      y_train.append(train_data[i, 0])\n",
        "  \n",
        "  X_train, y_train = np.array(X_train), np.array(y_train)\n",
        "  X_train = np.reshape(X_train, (X_train.shape[0], X_train.shape[1], 1))\n",
        "\n",
        "  return X_train, y_train, training_len, scaled_data, data_array"
      ],
      "metadata": {
        "id": "ehaKVTCtbmAb"
      },
      "execution_count": null,
      "outputs": []
    },
    {
      "cell_type": "code",
      "source": [
        "X_train_70, y_train_70, training_len_70, scaled_data, data_array = train_split(dataframe=scaled_data, split=.70)"
      ],
      "metadata": {
        "id": "9QoZFlgHbnv5"
      },
      "execution_count": null,
      "outputs": []
    },
    {
      "cell_type": "markdown",
      "metadata": {
        "id": "h6KHzR78vn9R"
      },
      "source": [
        "#**Architecture Model**"
      ]
    },
    {
      "cell_type": "code",
      "metadata": {
        "colab": {
          "base_uri": "https://localhost:8080/"
        },
        "id": "kuwgQ7pNNntU",
        "outputId": "b64f228c-2813-4589-9cb4-b31ab3c7741a"
      },
      "source": [
        "model = tf.keras.models.Sequential([\n",
        "  tf.keras.layers.LSTM(32, return_sequences=False, input_shape = (X_train_70.shape[1], 1)),\n",
        "  tf.keras.layers.Dense(32, activation=\"relu\"),\n",
        "  tf.keras.layers.Dense(1)\n",
        "])\n",
        "\n",
        "lr_schedule = tf.keras.callbacks.LearningRateScheduler(\n",
        "    lambda epoch: 1e-6 * 10**(epoch / 20))\n",
        "optimizer = tf.keras.optimizers.SGD(lr=1e-6, momentum=0.9)\n",
        "model.compile(loss=tf.keras.losses.Huber(),\n",
        "              optimizer=optimizer,\n",
        "              metrics=[\"mae\"])\n",
        "history = model.fit(X_train_70, y_train_70, epochs=100, callbacks=[lr_schedule])"
      ],
      "execution_count": null,
      "outputs": [
        {
          "output_type": "stream",
          "name": "stdout",
          "text": [
            "Epoch 1/100\n"
          ]
        },
        {
          "output_type": "stream",
          "name": "stderr",
          "text": [
            "/usr/local/lib/python3.7/dist-packages/keras/optimizer_v2/gradient_descent.py:102: UserWarning: The `lr` argument is deprecated, use `learning_rate` instead.\n",
            "  super(SGD, self).__init__(name, **kwargs)\n"
          ]
        },
        {
          "output_type": "stream",
          "name": "stdout",
          "text": [
            "96/96 [==============================] - 4s 10ms/step - loss: 0.4638 - mae: 0.8332 - lr: 1.0000e-06\n",
            "Epoch 2/100\n",
            "96/96 [==============================] - 1s 10ms/step - loss: 0.4636 - mae: 0.8330 - lr: 1.1220e-06\n",
            "Epoch 3/100\n",
            "96/96 [==============================] - 1s 10ms/step - loss: 0.4635 - mae: 0.8329 - lr: 1.2589e-06\n",
            "Epoch 4/100\n",
            "96/96 [==============================] - 1s 11ms/step - loss: 0.4633 - mae: 0.8328 - lr: 1.4125e-06\n",
            "Epoch 5/100\n",
            "96/96 [==============================] - 1s 10ms/step - loss: 0.4631 - mae: 0.8326 - lr: 1.5849e-06\n",
            "Epoch 6/100\n",
            "96/96 [==============================] - 1s 11ms/step - loss: 0.4629 - mae: 0.8324 - lr: 1.7783e-06\n",
            "Epoch 7/100\n",
            "96/96 [==============================] - 1s 11ms/step - loss: 0.4627 - mae: 0.8322 - lr: 1.9953e-06\n",
            "Epoch 8/100\n",
            "96/96 [==============================] - 1s 10ms/step - loss: 0.4624 - mae: 0.8319 - lr: 2.2387e-06\n",
            "Epoch 9/100\n",
            "96/96 [==============================] - 1s 10ms/step - loss: 0.4622 - mae: 0.8317 - lr: 2.5119e-06\n",
            "Epoch 10/100\n",
            "96/96 [==============================] - 1s 10ms/step - loss: 0.4618 - mae: 0.8314 - lr: 2.8184e-06\n",
            "Epoch 11/100\n",
            "96/96 [==============================] - 1s 9ms/step - loss: 0.4615 - mae: 0.8310 - lr: 3.1623e-06\n",
            "Epoch 12/100\n",
            "96/96 [==============================] - 1s 10ms/step - loss: 0.4611 - mae: 0.8307 - lr: 3.5481e-06\n",
            "Epoch 13/100\n",
            "96/96 [==============================] - 1s 9ms/step - loss: 0.4606 - mae: 0.8302 - lr: 3.9811e-06\n",
            "Epoch 14/100\n",
            "96/96 [==============================] - 1s 12ms/step - loss: 0.4601 - mae: 0.8298 - lr: 4.4668e-06\n",
            "Epoch 15/100\n",
            "96/96 [==============================] - 1s 11ms/step - loss: 0.4596 - mae: 0.8293 - lr: 5.0119e-06\n",
            "Epoch 16/100\n",
            "96/96 [==============================] - 1s 10ms/step - loss: 0.4590 - mae: 0.8287 - lr: 5.6234e-06\n",
            "Epoch 17/100\n",
            "96/96 [==============================] - 1s 11ms/step - loss: 0.4583 - mae: 0.8280 - lr: 6.3096e-06\n",
            "Epoch 18/100\n",
            "96/96 [==============================] - 1s 11ms/step - loss: 0.4576 - mae: 0.8273 - lr: 7.0795e-06\n",
            "Epoch 19/100\n",
            "96/96 [==============================] - 1s 11ms/step - loss: 0.4567 - mae: 0.8266 - lr: 7.9433e-06\n",
            "Epoch 20/100\n",
            "96/96 [==============================] - 1s 12ms/step - loss: 0.4558 - mae: 0.8257 - lr: 8.9125e-06\n",
            "Epoch 21/100\n",
            "96/96 [==============================] - 1s 10ms/step - loss: 0.4548 - mae: 0.8248 - lr: 1.0000e-05\n",
            "Epoch 22/100\n",
            "96/96 [==============================] - 1s 9ms/step - loss: 0.4537 - mae: 0.8238 - lr: 1.1220e-05\n",
            "Epoch 23/100\n",
            "96/96 [==============================] - 1s 11ms/step - loss: 0.4526 - mae: 0.8227 - lr: 1.2589e-05\n",
            "Epoch 24/100\n",
            "96/96 [==============================] - 1s 10ms/step - loss: 0.4512 - mae: 0.8215 - lr: 1.4125e-05\n",
            "Epoch 25/100\n",
            "96/96 [==============================] - 1s 10ms/step - loss: 0.4498 - mae: 0.8202 - lr: 1.5849e-05\n",
            "Epoch 26/100\n",
            "96/96 [==============================] - 1s 10ms/step - loss: 0.4483 - mae: 0.8188 - lr: 1.7783e-05\n",
            "Epoch 27/100\n",
            "96/96 [==============================] - 1s 10ms/step - loss: 0.4467 - mae: 0.8173 - lr: 1.9953e-05\n",
            "Epoch 28/100\n",
            "96/96 [==============================] - 1s 10ms/step - loss: 0.4449 - mae: 0.8157 - lr: 2.2387e-05\n",
            "Epoch 29/100\n",
            "96/96 [==============================] - 1s 11ms/step - loss: 0.4430 - mae: 0.8141 - lr: 2.5119e-05\n",
            "Epoch 30/100\n",
            "96/96 [==============================] - 1s 10ms/step - loss: 0.4409 - mae: 0.8122 - lr: 2.8184e-05\n",
            "Epoch 31/100\n",
            "96/96 [==============================] - 1s 10ms/step - loss: 0.4387 - mae: 0.8103 - lr: 3.1623e-05\n",
            "Epoch 32/100\n",
            "96/96 [==============================] - 1s 10ms/step - loss: 0.4363 - mae: 0.8083 - lr: 3.5481e-05\n",
            "Epoch 33/100\n",
            "96/96 [==============================] - 1s 9ms/step - loss: 0.4338 - mae: 0.8061 - lr: 3.9811e-05\n",
            "Epoch 34/100\n",
            "96/96 [==============================] - 1s 9ms/step - loss: 0.4312 - mae: 0.8039 - lr: 4.4668e-05\n",
            "Epoch 35/100\n",
            "96/96 [==============================] - 1s 8ms/step - loss: 0.4284 - mae: 0.8015 - lr: 5.0119e-05\n",
            "Epoch 36/100\n",
            "96/96 [==============================] - 1s 7ms/step - loss: 0.4255 - mae: 0.7990 - lr: 5.6234e-05\n",
            "Epoch 37/100\n",
            "96/96 [==============================] - 1s 7ms/step - loss: 0.4225 - mae: 0.7966 - lr: 6.3096e-05\n",
            "Epoch 38/100\n",
            "96/96 [==============================] - 1s 7ms/step - loss: 0.4193 - mae: 0.7940 - lr: 7.0795e-05\n",
            "Epoch 39/100\n",
            "96/96 [==============================] - 1s 7ms/step - loss: 0.4162 - mae: 0.7914 - lr: 7.9433e-05\n",
            "Epoch 40/100\n",
            "96/96 [==============================] - 1s 7ms/step - loss: 0.4129 - mae: 0.7886 - lr: 8.9125e-05\n",
            "Epoch 41/100\n",
            "96/96 [==============================] - 1s 7ms/step - loss: 0.4097 - mae: 0.7859 - lr: 1.0000e-04\n",
            "Epoch 42/100\n",
            "96/96 [==============================] - 1s 7ms/step - loss: 0.4066 - mae: 0.7835 - lr: 1.1220e-04\n",
            "Epoch 43/100\n",
            "96/96 [==============================] - 1s 7ms/step - loss: 0.4035 - mae: 0.7807 - lr: 1.2589e-04\n",
            "Epoch 44/100\n",
            "96/96 [==============================] - 1s 7ms/step - loss: 0.4004 - mae: 0.7782 - lr: 1.4125e-04\n",
            "Epoch 45/100\n",
            "96/96 [==============================] - 1s 7ms/step - loss: 0.3973 - mae: 0.7753 - lr: 1.5849e-04\n",
            "Epoch 46/100\n",
            "96/96 [==============================] - 1s 7ms/step - loss: 0.3943 - mae: 0.7732 - lr: 1.7783e-04\n",
            "Epoch 47/100\n",
            "96/96 [==============================] - 1s 7ms/step - loss: 0.3911 - mae: 0.7701 - lr: 1.9953e-04\n",
            "Epoch 48/100\n",
            "96/96 [==============================] - 1s 7ms/step - loss: 0.3879 - mae: 0.7671 - lr: 2.2387e-04\n",
            "Epoch 49/100\n",
            "96/96 [==============================] - 1s 7ms/step - loss: 0.3845 - mae: 0.7645 - lr: 2.5119e-04\n",
            "Epoch 50/100\n",
            "96/96 [==============================] - 1s 7ms/step - loss: 0.3810 - mae: 0.7614 - lr: 2.8184e-04\n",
            "Epoch 51/100\n",
            "96/96 [==============================] - 1s 7ms/step - loss: 0.3773 - mae: 0.7574 - lr: 3.1623e-04\n",
            "Epoch 52/100\n",
            "96/96 [==============================] - 1s 7ms/step - loss: 0.3736 - mae: 0.7544 - lr: 3.5481e-04\n",
            "Epoch 53/100\n",
            "96/96 [==============================] - 1s 7ms/step - loss: 0.3700 - mae: 0.7516 - lr: 3.9811e-04\n",
            "Epoch 54/100\n",
            "96/96 [==============================] - 1s 7ms/step - loss: 0.3661 - mae: 0.7476 - lr: 4.4668e-04\n",
            "Epoch 55/100\n",
            "96/96 [==============================] - 1s 7ms/step - loss: 0.3625 - mae: 0.7435 - lr: 5.0119e-04\n",
            "Epoch 56/100\n",
            "96/96 [==============================] - 1s 7ms/step - loss: 0.3592 - mae: 0.7431 - lr: 5.6234e-04\n",
            "Epoch 57/100\n",
            "96/96 [==============================] - 1s 7ms/step - loss: 0.3564 - mae: 0.7377 - lr: 6.3096e-04\n",
            "Epoch 58/100\n",
            "96/96 [==============================] - 1s 7ms/step - loss: 0.3542 - mae: 0.7395 - lr: 7.0795e-04\n",
            "Epoch 59/100\n",
            "96/96 [==============================] - 1s 8ms/step - loss: 0.3525 - mae: 0.7335 - lr: 7.9433e-04\n",
            "Epoch 60/100\n",
            "96/96 [==============================] - 1s 7ms/step - loss: 0.3515 - mae: 0.7382 - lr: 8.9125e-04\n",
            "Epoch 61/100\n",
            "96/96 [==============================] - 1s 7ms/step - loss: 0.3507 - mae: 0.7338 - lr: 0.0010\n",
            "Epoch 62/100\n",
            "96/96 [==============================] - 1s 7ms/step - loss: 0.3498 - mae: 0.7296 - lr: 0.0011\n",
            "Epoch 63/100\n",
            "96/96 [==============================] - 1s 7ms/step - loss: 0.3491 - mae: 0.7347 - lr: 0.0013\n",
            "Epoch 64/100\n",
            "96/96 [==============================] - 1s 7ms/step - loss: 0.3486 - mae: 0.7287 - lr: 0.0014\n",
            "Epoch 65/100\n",
            "96/96 [==============================] - 1s 7ms/step - loss: 0.3480 - mae: 0.7310 - lr: 0.0016\n",
            "Epoch 66/100\n",
            "96/96 [==============================] - 1s 7ms/step - loss: 0.3473 - mae: 0.7313 - lr: 0.0018\n",
            "Epoch 67/100\n",
            "96/96 [==============================] - 1s 7ms/step - loss: 0.3461 - mae: 0.7226 - lr: 0.0020\n",
            "Epoch 68/100\n",
            "96/96 [==============================] - 1s 7ms/step - loss: 0.3458 - mae: 0.7291 - lr: 0.0022\n",
            "Epoch 69/100\n",
            "96/96 [==============================] - 1s 7ms/step - loss: 0.3444 - mae: 0.7265 - lr: 0.0025\n",
            "Epoch 70/100\n",
            "96/96 [==============================] - 1s 7ms/step - loss: 0.3430 - mae: 0.7276 - lr: 0.0028\n",
            "Epoch 71/100\n",
            "96/96 [==============================] - 1s 7ms/step - loss: 0.3406 - mae: 0.7206 - lr: 0.0032\n",
            "Epoch 72/100\n",
            "96/96 [==============================] - 1s 7ms/step - loss: 0.3374 - mae: 0.7176 - lr: 0.0035\n",
            "Epoch 73/100\n",
            "96/96 [==============================] - 1s 7ms/step - loss: 0.3339 - mae: 0.7164 - lr: 0.0040\n",
            "Epoch 74/100\n",
            "96/96 [==============================] - 1s 7ms/step - loss: 0.3238 - mae: 0.7058 - lr: 0.0045\n",
            "Epoch 75/100\n",
            "96/96 [==============================] - 1s 7ms/step - loss: 0.3090 - mae: 0.6821 - lr: 0.0050\n",
            "Epoch 76/100\n",
            "96/96 [==============================] - 1s 7ms/step - loss: 0.2912 - mae: 0.6554 - lr: 0.0056\n",
            "Epoch 77/100\n",
            "96/96 [==============================] - 1s 7ms/step - loss: 0.2690 - mae: 0.6208 - lr: 0.0063\n",
            "Epoch 78/100\n",
            "96/96 [==============================] - 1s 7ms/step - loss: 0.2460 - mae: 0.5831 - lr: 0.0071\n",
            "Epoch 79/100\n",
            "96/96 [==============================] - 1s 7ms/step - loss: 0.2104 - mae: 0.5339 - lr: 0.0079\n",
            "Epoch 80/100\n",
            "96/96 [==============================] - 1s 7ms/step - loss: 0.1842 - mae: 0.4931 - lr: 0.0089\n",
            "Epoch 81/100\n",
            "96/96 [==============================] - 1s 7ms/step - loss: 0.1550 - mae: 0.4370 - lr: 0.0100\n",
            "Epoch 82/100\n",
            "96/96 [==============================] - 1s 7ms/step - loss: 0.1345 - mae: 0.3918 - lr: 0.0112\n",
            "Epoch 83/100\n",
            "96/96 [==============================] - 1s 7ms/step - loss: 0.1195 - mae: 0.3548 - lr: 0.0126\n",
            "Epoch 84/100\n",
            "96/96 [==============================] - 1s 7ms/step - loss: 0.1120 - mae: 0.3379 - lr: 0.0141\n",
            "Epoch 85/100\n",
            "96/96 [==============================] - 1s 7ms/step - loss: 0.1101 - mae: 0.3309 - lr: 0.0158\n",
            "Epoch 86/100\n",
            "96/96 [==============================] - 1s 7ms/step - loss: 0.1034 - mae: 0.3133 - lr: 0.0178\n",
            "Epoch 87/100\n",
            "96/96 [==============================] - 1s 7ms/step - loss: 0.0970 - mae: 0.3000 - lr: 0.0200\n",
            "Epoch 88/100\n",
            "96/96 [==============================] - 1s 7ms/step - loss: 0.0959 - mae: 0.3018 - lr: 0.0224\n",
            "Epoch 89/100\n",
            "96/96 [==============================] - 1s 7ms/step - loss: 0.0895 - mae: 0.2843 - lr: 0.0251\n",
            "Epoch 90/100\n",
            "96/96 [==============================] - 1s 8ms/step - loss: 0.0813 - mae: 0.2613 - lr: 0.0282\n",
            "Epoch 91/100\n",
            "96/96 [==============================] - 1s 7ms/step - loss: 0.0809 - mae: 0.2656 - lr: 0.0316\n",
            "Epoch 92/100\n",
            "96/96 [==============================] - 1s 7ms/step - loss: 0.0800 - mae: 0.2623 - lr: 0.0355\n",
            "Epoch 93/100\n",
            "96/96 [==============================] - 1s 7ms/step - loss: 0.0757 - mae: 0.2487 - lr: 0.0398\n",
            "Epoch 94/100\n",
            "96/96 [==============================] - 1s 7ms/step - loss: 0.0750 - mae: 0.2497 - lr: 0.0447\n",
            "Epoch 95/100\n",
            "96/96 [==============================] - 1s 8ms/step - loss: 0.0763 - mae: 0.2513 - lr: 0.0501\n",
            "Epoch 96/100\n",
            "96/96 [==============================] - 1s 7ms/step - loss: 0.0737 - mae: 0.2490 - lr: 0.0562\n",
            "Epoch 97/100\n",
            "96/96 [==============================] - 1s 8ms/step - loss: 0.0672 - mae: 0.2290 - lr: 0.0631\n",
            "Epoch 98/100\n",
            "96/96 [==============================] - 1s 7ms/step - loss: 0.0686 - mae: 0.2359 - lr: 0.0708\n",
            "Epoch 99/100\n",
            "96/96 [==============================] - 1s 7ms/step - loss: 0.0622 - mae: 0.2196 - lr: 0.0794\n",
            "Epoch 100/100\n",
            "96/96 [==============================] - 1s 7ms/step - loss: 0.0653 - mae: 0.2304 - lr: 0.0891\n"
          ]
        }
      ]
    },
    {
      "cell_type": "markdown",
      "metadata": {
        "id": "axtwiJA-v0pc"
      },
      "source": [
        "#**Testing Dataset**"
      ]
    },
    {
      "cell_type": "code",
      "metadata": {
        "colab": {
          "base_uri": "https://localhost:8080/"
        },
        "id": "88a-k_prnKDE",
        "outputId": "6dc2a32c-3ac0-4680-ce50-e4baf16d4f9a"
      },
      "source": [
        "scaled_data_test = scaler.transform(df)\n",
        "scaled_data_test"
      ],
      "execution_count": null,
      "outputs": [
        {
          "output_type": "execute_result",
          "data": {
            "text/plain": [
              "array([[-1.62582675],\n",
              "       [ 0.25244916],\n",
              "       [ 0.62656353],\n",
              "       ...,\n",
              "       [-0.26296542],\n",
              "       [-0.74341968],\n",
              "       [-1.39699221]])"
            ]
          },
          "metadata": {},
          "execution_count": 10
        }
      ]
    },
    {
      "cell_type": "code",
      "source": [
        "def test_split(training_len, scaled_data_test):\n",
        "  scaled_test = scaled_data_test\n",
        "  test_data = scaled_test[training_len - 24:, :]\n",
        "\n",
        "  X_test = []\n",
        "  y_test = data_array[training_len:, :]\n",
        "  for i in range(24, len(test_data)):\n",
        "    X_test.append(test_data[i-24:i, 0])\n",
        "\n",
        "  X_test = np.array(X_test)\n",
        "  X_test = np.reshape(X_test, (X_test.shape[0], X_test.shape[1], 1))\n",
        "\n",
        "  return X_test, y_test, test_data"
      ],
      "metadata": {
        "id": "_e0aVXT6cjjq"
      },
      "execution_count": null,
      "outputs": []
    },
    {
      "cell_type": "code",
      "source": [
        "X_test_30, y_test_30, test_data_30 = test_split(training_len_70, scaled_data_test)"
      ],
      "metadata": {
        "id": "RHOmZqhdckuY"
      },
      "execution_count": null,
      "outputs": []
    },
    {
      "cell_type": "markdown",
      "metadata": {
        "id": "-4aw9QZGwCfP"
      },
      "source": [
        "#**Model Predicting**"
      ]
    },
    {
      "cell_type": "code",
      "source": [
        "def predict(X_test, model):\n",
        "  predictions = model.predict(X_test)\n",
        "  predictions\n",
        "  \n",
        "  return predictions"
      ],
      "metadata": {
        "id": "gPtce44kc9Bn"
      },
      "execution_count": null,
      "outputs": []
    },
    {
      "cell_type": "code",
      "source": [
        "predictions_30 = predict(X_test_30, model)\n",
        "predictions_30"
      ],
      "metadata": {
        "colab": {
          "base_uri": "https://localhost:8080/"
        },
        "id": "ykLT6MGMdB03",
        "outputId": "14c52fa0-c963-4b32-cb45-866f117d716f"
      },
      "execution_count": null,
      "outputs": [
        {
          "output_type": "execute_result",
          "data": {
            "text/plain": [
              "array([[ 0.77203095],\n",
              "       [ 0.5587388 ],\n",
              "       [-1.0101944 ],\n",
              "       ...,\n",
              "       [-0.32357076],\n",
              "       [-0.8884374 ],\n",
              "       [-1.7721416 ]], dtype=float32)"
            ]
          },
          "metadata": {},
          "execution_count": 14
        }
      ]
    },
    {
      "cell_type": "code",
      "source": [
        "predictions_inverse_30 = scaler.inverse_transform(predictions_30)\n",
        "predictions_inverse_30"
      ],
      "metadata": {
        "colab": {
          "base_uri": "https://localhost:8080/"
        },
        "id": "mtnnJu0FdSe6",
        "outputId": "badb5b4f-f6e1-4d65-8c46-4bf9df376fa4"
      },
      "execution_count": null,
      "outputs": [
        {
          "output_type": "execute_result",
          "data": {
            "text/plain": [
              "array([[1466.6453],\n",
              "       [1431.2906],\n",
              "       [1171.2292],\n",
              "       ...,\n",
              "       [1285.0417],\n",
              "       [1191.4113],\n",
              "       [1044.9313]], dtype=float32)"
            ]
          },
          "metadata": {},
          "execution_count": 15
        }
      ]
    },
    {
      "cell_type": "markdown",
      "metadata": {
        "id": "0LHeGFV11gro"
      },
      "source": [
        "#**Model Evaluate**"
      ]
    },
    {
      "cell_type": "code",
      "metadata": {
        "colab": {
          "base_uri": "https://localhost:8080/",
          "height": 112
        },
        "id": "GAmQ5N0fhtg6",
        "outputId": "8bc20eab-98f2-4a27-dd62-771a57d53881"
      },
      "source": [
        "var=explained_variance_score(y_test_30, predictions_30) \n",
        "mae=mean_absolute_error(y_test_30, predictions_30)\n",
        "mse=mean_squared_error (y_test_30, predictions_30)\n",
        "rmse=np.sqrt(mse)\n",
        "r2=r2_score(y_test_30, predictions_30)  \n",
        "metric=[var,mae,mse,rmse,r2]\n",
        "evaluate=['Explained variance','MAE','MSE','RMSE','R^2']\n",
        "performance_evaluate=pd.DataFrame([evaluate,metric])\n",
        "performance_evaluate"
      ],
      "execution_count": null,
      "outputs": [
        {
          "output_type": "execute_result",
          "data": {
            "text/plain": [
              "                    0         1         2         3         4\n",
              "0  Explained variance       MAE       MSE      RMSE       R^2\n",
              "1            0.877394  0.198987  0.116328  0.341069  0.876158"
            ],
            "text/html": [
              "\n",
              "  <div id=\"df-7a5c7b86-7325-4bcc-972d-e74c2ab35f33\">\n",
              "    <div class=\"colab-df-container\">\n",
              "      <div>\n",
              "<style scoped>\n",
              "    .dataframe tbody tr th:only-of-type {\n",
              "        vertical-align: middle;\n",
              "    }\n",
              "\n",
              "    .dataframe tbody tr th {\n",
              "        vertical-align: top;\n",
              "    }\n",
              "\n",
              "    .dataframe thead th {\n",
              "        text-align: right;\n",
              "    }\n",
              "</style>\n",
              "<table border=\"1\" class=\"dataframe\">\n",
              "  <thead>\n",
              "    <tr style=\"text-align: right;\">\n",
              "      <th></th>\n",
              "      <th>0</th>\n",
              "      <th>1</th>\n",
              "      <th>2</th>\n",
              "      <th>3</th>\n",
              "      <th>4</th>\n",
              "    </tr>\n",
              "  </thead>\n",
              "  <tbody>\n",
              "    <tr>\n",
              "      <th>0</th>\n",
              "      <td>Explained variance</td>\n",
              "      <td>MAE</td>\n",
              "      <td>MSE</td>\n",
              "      <td>RMSE</td>\n",
              "      <td>R^2</td>\n",
              "    </tr>\n",
              "    <tr>\n",
              "      <th>1</th>\n",
              "      <td>0.877394</td>\n",
              "      <td>0.198987</td>\n",
              "      <td>0.116328</td>\n",
              "      <td>0.341069</td>\n",
              "      <td>0.876158</td>\n",
              "    </tr>\n",
              "  </tbody>\n",
              "</table>\n",
              "</div>\n",
              "      <button class=\"colab-df-convert\" onclick=\"convertToInteractive('df-7a5c7b86-7325-4bcc-972d-e74c2ab35f33')\"\n",
              "              title=\"Convert this dataframe to an interactive table.\"\n",
              "              style=\"display:none;\">\n",
              "        \n",
              "  <svg xmlns=\"http://www.w3.org/2000/svg\" height=\"24px\"viewBox=\"0 0 24 24\"\n",
              "       width=\"24px\">\n",
              "    <path d=\"M0 0h24v24H0V0z\" fill=\"none\"/>\n",
              "    <path d=\"M18.56 5.44l.94 2.06.94-2.06 2.06-.94-2.06-.94-.94-2.06-.94 2.06-2.06.94zm-11 1L8.5 8.5l.94-2.06 2.06-.94-2.06-.94L8.5 2.5l-.94 2.06-2.06.94zm10 10l.94 2.06.94-2.06 2.06-.94-2.06-.94-.94-2.06-.94 2.06-2.06.94z\"/><path d=\"M17.41 7.96l-1.37-1.37c-.4-.4-.92-.59-1.43-.59-.52 0-1.04.2-1.43.59L10.3 9.45l-7.72 7.72c-.78.78-.78 2.05 0 2.83L4 21.41c.39.39.9.59 1.41.59.51 0 1.02-.2 1.41-.59l7.78-7.78 2.81-2.81c.8-.78.8-2.07 0-2.86zM5.41 20L4 18.59l7.72-7.72 1.47 1.35L5.41 20z\"/>\n",
              "  </svg>\n",
              "      </button>\n",
              "      \n",
              "  <style>\n",
              "    .colab-df-container {\n",
              "      display:flex;\n",
              "      flex-wrap:wrap;\n",
              "      gap: 12px;\n",
              "    }\n",
              "\n",
              "    .colab-df-convert {\n",
              "      background-color: #E8F0FE;\n",
              "      border: none;\n",
              "      border-radius: 50%;\n",
              "      cursor: pointer;\n",
              "      display: none;\n",
              "      fill: #1967D2;\n",
              "      height: 32px;\n",
              "      padding: 0 0 0 0;\n",
              "      width: 32px;\n",
              "    }\n",
              "\n",
              "    .colab-df-convert:hover {\n",
              "      background-color: #E2EBFA;\n",
              "      box-shadow: 0px 1px 2px rgba(60, 64, 67, 0.3), 0px 1px 3px 1px rgba(60, 64, 67, 0.15);\n",
              "      fill: #174EA6;\n",
              "    }\n",
              "\n",
              "    [theme=dark] .colab-df-convert {\n",
              "      background-color: #3B4455;\n",
              "      fill: #D2E3FC;\n",
              "    }\n",
              "\n",
              "    [theme=dark] .colab-df-convert:hover {\n",
              "      background-color: #434B5C;\n",
              "      box-shadow: 0px 1px 3px 1px rgba(0, 0, 0, 0.15);\n",
              "      filter: drop-shadow(0px 1px 2px rgba(0, 0, 0, 0.3));\n",
              "      fill: #FFFFFF;\n",
              "    }\n",
              "  </style>\n",
              "\n",
              "      <script>\n",
              "        const buttonEl =\n",
              "          document.querySelector('#df-7a5c7b86-7325-4bcc-972d-e74c2ab35f33 button.colab-df-convert');\n",
              "        buttonEl.style.display =\n",
              "          google.colab.kernel.accessAllowed ? 'block' : 'none';\n",
              "\n",
              "        async function convertToInteractive(key) {\n",
              "          const element = document.querySelector('#df-7a5c7b86-7325-4bcc-972d-e74c2ab35f33');\n",
              "          const dataTable =\n",
              "            await google.colab.kernel.invokeFunction('convertToInteractive',\n",
              "                                                     [key], {});\n",
              "          if (!dataTable) return;\n",
              "\n",
              "          const docLinkHtml = 'Like what you see? Visit the ' +\n",
              "            '<a target=\"_blank\" href=https://colab.research.google.com/notebooks/data_table.ipynb>data table notebook</a>'\n",
              "            + ' to learn more about interactive tables.';\n",
              "          element.innerHTML = '';\n",
              "          dataTable['output_type'] = 'display_data';\n",
              "          await google.colab.output.renderOutput(dataTable, element);\n",
              "          const docLink = document.createElement('div');\n",
              "          docLink.innerHTML = docLinkHtml;\n",
              "          element.appendChild(docLink);\n",
              "        }\n",
              "      </script>\n",
              "    </div>\n",
              "  </div>\n",
              "  "
            ]
          },
          "metadata": {},
          "execution_count": 16
        }
      ]
    },
    {
      "cell_type": "code",
      "metadata": {
        "colab": {
          "base_uri": "https://localhost:8080/",
          "height": 388
        },
        "id": "GaFxfzfKh0rD",
        "outputId": "939e51f8-6b3f-40d2-806b-78820973cd26"
      },
      "source": [
        "plt.figure(figsize=(14,6))\n",
        "plt.plot(history.history[\"loss\"], label=\"loss\")\n",
        "plt.xlabel(\"Epoch\")\n",
        "plt.ylabel(\"Loss\")\n",
        "plt.legend()\n",
        "plt.show()"
      ],
      "execution_count": null,
      "outputs": [
        {
          "output_type": "display_data",
          "data": {
            "text/plain": [
              "<Figure size 1008x432 with 1 Axes>"
            ],
            "image/png": "[encoded data removed]"
          },
          "metadata": {
            "needs_background": "light"
          }
        }
      ]
    },
    {
      "cell_type": "markdown",
      "metadata": {
        "id": "Ey7e8DHL1tlO"
      },
      "source": [
        "#**Transform Ndarray to Dataframe**"
      ]
    },
    {
      "cell_type": "code",
      "source": [
        "def compare(dataframe, training_len, predictions):\n",
        "  train = df[:training_len]\n",
        "  valid = df[training_len:]\n",
        "  valid['Predictions'] = predictions\n",
        "  \n",
        "  return train, valid"
      ],
      "metadata": {
        "id": "yuiuB2rmdtJX"
      },
      "execution_count": null,
      "outputs": []
    },
    {
      "cell_type": "code",
      "source": [
        "train_70, valid_30 = compare(df, training_len_70, predictions_inverse_30)\n",
        "valid_30"
      ],
      "metadata": {
        "colab": {
          "base_uri": "https://localhost:8080/",
          "height": 559
        },
        "id": "NboN2vucdw8C",
        "outputId": "6ba00e26-af54-4ce8-a686-d30adf9cd99b"
      },
      "execution_count": null,
      "outputs": [
        {
          "output_type": "stream",
          "name": "stderr",
          "text": [
            "/usr/local/lib/python3.7/dist-packages/ipykernel_launcher.py:4: SettingWithCopyWarning: \n",
            "A value is trying to be set on a copy of a slice from a DataFrame.\n",
            "Try using .loc[row_indexer,col_indexer] = value instead\n",
            "\n",
            "See the caveats in the documentation: https://pandas.pydata.org/pandas-docs/stable/user_guide/indexing.html#returning-a-view-versus-a-copy\n",
            "  after removing the cwd from sys.path.\n"
          ]
        },
        {
          "output_type": "execute_result",
          "data": {
            "text/plain": [
              "            Consumption  Predictions\n",
              "Date                                \n",
              "2014-05-28   1441.62200  1466.645264\n",
              "2014-05-29   1128.15100  1431.290649\n",
              "2014-05-30   1261.20800  1171.229248\n",
              "2014-05-31   1147.44000  1168.397583\n",
              "2014-06-01   1068.98200  1083.912476\n",
              "...                 ...          ...\n",
              "2017-12-27   1263.94091  1193.658691\n",
              "2017-12-28   1299.86398  1267.843750\n",
              "2017-12-29   1295.08753  1285.041748\n",
              "2017-12-30   1215.44897  1191.411255\n",
              "2017-12-31   1107.11488  1044.931274\n",
              "\n",
              "[1314 rows x 2 columns]"
            ],
            "text/html": [
              "\n",
              "  <div id=\"df-0349b440-2703-4c70-bbfd-6536336a5665\">\n",
              "    <div class=\"colab-df-container\">\n",
              "      <div>\n",
              "<style scoped>\n",
              "    .dataframe tbody tr th:only-of-type {\n",
              "        vertical-align: middle;\n",
              "    }\n",
              "\n",
              "    .dataframe tbody tr th {\n",
              "        vertical-align: top;\n",
              "    }\n",
              "\n",
              "    .dataframe thead th {\n",
              "        text-align: right;\n",
              "    }\n",
              "</style>\n",
              "<table border=\"1\" class=\"dataframe\">\n",
              "  <thead>\n",
              "    <tr style=\"text-align: right;\">\n",
              "      <th></th>\n",
              "      <th>Consumption</th>\n",
              "      <th>Predictions</th>\n",
              "    </tr>\n",
              "    <tr>\n",
              "      <th>Date</th>\n",
              "      <th></th>\n",
              "      <th></th>\n",
              "    </tr>\n",
              "  </thead>\n",
              "  <tbody>\n",
              "    <tr>\n",
              "      <th>2014-05-28</th>\n",
              "      <td>1441.62200</td>\n",
              "      <td>1466.645264</td>\n",
              "    </tr>\n",
              "    <tr>\n",
              "      <th>2014-05-29</th>\n",
              "      <td>1128.15100</td>\n",
              "      <td>1431.290649</td>\n",
              "    </tr>\n",
              "    <tr>\n",
              "      <th>2014-05-30</th>\n",
              "      <td>1261.20800</td>\n",
              "      <td>1171.229248</td>\n",
              "    </tr>\n",
              "    <tr>\n",
              "      <th>2014-05-31</th>\n",
              "      <td>1147.44000</td>\n",
              "      <td>1168.397583</td>\n",
              "    </tr>\n",
              "    <tr>\n",
              "      <th>2014-06-01</th>\n",
              "      <td>1068.98200</td>\n",
              "      <td>1083.912476</td>\n",
              "    </tr>\n",
              "    <tr>\n",
              "      <th>...</th>\n",
              "      <td>...</td>\n",
              "      <td>...</td>\n",
              "    </tr>\n",
              "    <tr>\n",
              "      <th>2017-12-27</th>\n",
              "      <td>1263.94091</td>\n",
              "      <td>1193.658691</td>\n",
              "    </tr>\n",
              "    <tr>\n",
              "      <th>2017-12-28</th>\n",
              "      <td>1299.86398</td>\n",
              "      <td>1267.843750</td>\n",
              "    </tr>\n",
              "    <tr>\n",
              "      <th>2017-12-29</th>\n",
              "      <td>1295.08753</td>\n",
              "      <td>1285.041748</td>\n",
              "    </tr>\n",
              "    <tr>\n",
              "      <th>2017-12-30</th>\n",
              "      <td>1215.44897</td>\n",
              "      <td>1191.411255</td>\n",
              "    </tr>\n",
              "    <tr>\n",
              "      <th>2017-12-31</th>\n",
              "      <td>1107.11488</td>\n",
              "      <td>1044.931274</td>\n",
              "    </tr>\n",
              "  </tbody>\n",
              "</table>\n",
              "<p>1314 rows × 2 columns</p>\n",
              "</div>\n",
              "      <button class=\"colab-df-convert\" onclick=\"convertToInteractive('df-0349b440-2703-4c70-bbfd-6536336a5665')\"\n",
              "              title=\"Convert this dataframe to an interactive table.\"\n",
              "              style=\"display:none;\">\n",
              "        \n",
              "  <svg xmlns=\"http://www.w3.org/2000/svg\" height=\"24px\"viewBox=\"0 0 24 24\"\n",
              "       width=\"24px\">\n",
              "    <path d=\"M0 0h24v24H0V0z\" fill=\"none\"/>\n",
              "    <path d=\"M18.56 5.44l.94 2.06.94-2.06 2.06-.94-2.06-.94-.94-2.06-.94 2.06-2.06.94zm-11 1L8.5 8.5l.94-2.06 2.06-.94-2.06-.94L8.5 2.5l-.94 2.06-2.06.94zm10 10l.94 2.06.94-2.06 2.06-.94-2.06-.94-.94-2.06-.94 2.06-2.06.94z\"/><path d=\"M17.41 7.96l-1.37-1.37c-.4-.4-.92-.59-1.43-.59-.52 0-1.04.2-1.43.59L10.3 9.45l-7.72 7.72c-.78.78-.78 2.05 0 2.83L4 21.41c.39.39.9.59 1.41.59.51 0 1.02-.2 1.41-.59l7.78-7.78 2.81-2.81c.8-.78.8-2.07 0-2.86zM5.41 20L4 18.59l7.72-7.72 1.47 1.35L5.41 20z\"/>\n",
              "  </svg>\n",
              "      </button>\n",
              "      \n",
              "  <style>\n",
              "    .colab-df-container {\n",
              "      display:flex;\n",
              "      flex-wrap:wrap;\n",
              "      gap: 12px;\n",
              "    }\n",
              "\n",
              "    .colab-df-convert {\n",
              "      background-color: #E8F0FE;\n",
              "      border: none;\n",
              "      border-radius: 50%;\n",
              "      cursor: pointer;\n",
              "      display: none;\n",
              "      fill: #1967D2;\n",
              "      height: 32px;\n",
              "      padding: 0 0 0 0;\n",
              "      width: 32px;\n",
              "    }\n",
              "\n",
              "    .colab-df-convert:hover {\n",
              "      background-color: #E2EBFA;\n",
              "      box-shadow: 0px 1px 2px rgba(60, 64, 67, 0.3), 0px 1px 3px 1px rgba(60, 64, 67, 0.15);\n",
              "      fill: #174EA6;\n",
              "    }\n",
              "\n",
              "    [theme=dark] .colab-df-convert {\n",
              "      background-color: #3B4455;\n",
              "      fill: #D2E3FC;\n",
              "    }\n",
              "\n",
              "    [theme=dark] .colab-df-convert:hover {\n",
              "      background-color: #434B5C;\n",
              "      box-shadow: 0px 1px 3px 1px rgba(0, 0, 0, 0.15);\n",
              "      filter: drop-shadow(0px 1px 2px rgba(0, 0, 0, 0.3));\n",
              "      fill: #FFFFFF;\n",
              "    }\n",
              "  </style>\n",
              "\n",
              "      <script>\n",
              "        const buttonEl =\n",
              "          document.querySelector('#df-0349b440-2703-4c70-bbfd-6536336a5665 button.colab-df-convert');\n",
              "        buttonEl.style.display =\n",
              "          google.colab.kernel.accessAllowed ? 'block' : 'none';\n",
              "\n",
              "        async function convertToInteractive(key) {\n",
              "          const element = document.querySelector('#df-0349b440-2703-4c70-bbfd-6536336a5665');\n",
              "          const dataTable =\n",
              "            await google.colab.kernel.invokeFunction('convertToInteractive',\n",
              "                                                     [key], {});\n",
              "          if (!dataTable) return;\n",
              "\n",
              "          const docLinkHtml = 'Like what you see? Visit the ' +\n",
              "            '<a target=\"_blank\" href=https://colab.research.google.com/notebooks/data_table.ipynb>data table notebook</a>'\n",
              "            + ' to learn more about interactive tables.';\n",
              "          element.innerHTML = '';\n",
              "          dataTable['output_type'] = 'display_data';\n",
              "          await google.colab.output.renderOutput(dataTable, element);\n",
              "          const docLink = document.createElement('div');\n",
              "          docLink.innerHTML = docLinkHtml;\n",
              "          element.appendChild(docLink);\n",
              "        }\n",
              "      </script>\n",
              "    </div>\n",
              "  </div>\n",
              "  "
            ]
          },
          "metadata": {},
          "execution_count": 19
        }
      ]
    },
    {
      "cell_type": "code",
      "source": [
        "valid_30.tail()"
      ],
      "metadata": {
        "id": "NTwVsB8GlroR",
        "outputId": "d702a033-ee71-4cbd-9183-429eaf665f75",
        "colab": {
          "base_uri": "https://localhost:8080/",
          "height": 238
        }
      },
      "execution_count": null,
      "outputs": [
        {
          "output_type": "execute_result",
          "data": {
            "text/plain": [
              "            Consumption  Predictions\n",
              "Date                                \n",
              "2017-12-27   1263.94091  1193.658691\n",
              "2017-12-28   1299.86398  1267.843750\n",
              "2017-12-29   1295.08753  1285.041748\n",
              "2017-12-30   1215.44897  1191.411255\n",
              "2017-12-31   1107.11488  1044.931274"
            ],
            "text/html": [
              "\n",
              "  <div id=\"df-6a3aa6d6-d3ec-4003-be9b-6035e2b71bfa\">\n",
              "    <div class=\"colab-df-container\">\n",
              "      <div>\n",
              "<style scoped>\n",
              "    .dataframe tbody tr th:only-of-type {\n",
              "        vertical-align: middle;\n",
              "    }\n",
              "\n",
              "    .dataframe tbody tr th {\n",
              "        vertical-align: top;\n",
              "    }\n",
              "\n",
              "    .dataframe thead th {\n",
              "        text-align: right;\n",
              "    }\n",
              "</style>\n",
              "<table border=\"1\" class=\"dataframe\">\n",
              "  <thead>\n",
              "    <tr style=\"text-align: right;\">\n",
              "      <th></th>\n",
              "      <th>Consumption</th>\n",
              "      <th>Predictions</th>\n",
              "    </tr>\n",
              "    <tr>\n",
              "      <th>Date</th>\n",
              "      <th></th>\n",
              "      <th></th>\n",
              "    </tr>\n",
              "  </thead>\n",
              "  <tbody>\n",
              "    <tr>\n",
              "      <th>2017-12-27</th>\n",
              "      <td>1263.94091</td>\n",
              "      <td>1193.658691</td>\n",
              "    </tr>\n",
              "    <tr>\n",
              "      <th>2017-12-28</th>\n",
              "      <td>1299.86398</td>\n",
              "      <td>1267.843750</td>\n",
              "    </tr>\n",
              "    <tr>\n",
              "      <th>2017-12-29</th>\n",
              "      <td>1295.08753</td>\n",
              "      <td>1285.041748</td>\n",
              "    </tr>\n",
              "    <tr>\n",
              "      <th>2017-12-30</th>\n",
              "      <td>1215.44897</td>\n",
              "      <td>1191.411255</td>\n",
              "    </tr>\n",
              "    <tr>\n",
              "      <th>2017-12-31</th>\n",
              "      <td>1107.11488</td>\n",
              "      <td>1044.931274</td>\n",
              "    </tr>\n",
              "  </tbody>\n",
              "</table>\n",
              "</div>\n",
              "      <button class=\"colab-df-convert\" onclick=\"convertToInteractive('df-6a3aa6d6-d3ec-4003-be9b-6035e2b71bfa')\"\n",
              "              title=\"Convert this dataframe to an interactive table.\"\n",
              "              style=\"display:none;\">\n",
              "        \n",
              "  <svg xmlns=\"http://www.w3.org/2000/svg\" height=\"24px\"viewBox=\"0 0 24 24\"\n",
              "       width=\"24px\">\n",
              "    <path d=\"M0 0h24v24H0V0z\" fill=\"none\"/>\n",
              "    <path d=\"M18.56 5.44l.94 2.06.94-2.06 2.06-.94-2.06-.94-.94-2.06-.94 2.06-2.06.94zm-11 1L8.5 8.5l.94-2.06 2.06-.94-2.06-.94L8.5 2.5l-.94 2.06-2.06.94zm10 10l.94 2.06.94-2.06 2.06-.94-2.06-.94-.94-2.06-.94 2.06-2.06.94z\"/><path d=\"M17.41 7.96l-1.37-1.37c-.4-.4-.92-.59-1.43-.59-.52 0-1.04.2-1.43.59L10.3 9.45l-7.72 7.72c-.78.78-.78 2.05 0 2.83L4 21.41c.39.39.9.59 1.41.59.51 0 1.02-.2 1.41-.59l7.78-7.78 2.81-2.81c.8-.78.8-2.07 0-2.86zM5.41 20L4 18.59l7.72-7.72 1.47 1.35L5.41 20z\"/>\n",
              "  </svg>\n",
              "      </button>\n",
              "      \n",
              "  <style>\n",
              "    .colab-df-container {\n",
              "      display:flex;\n",
              "      flex-wrap:wrap;\n",
              "      gap: 12px;\n",
              "    }\n",
              "\n",
              "    .colab-df-convert {\n",
              "      background-color: #E8F0FE;\n",
              "      border: none;\n",
              "      border-radius: 50%;\n",
              "      cursor: pointer;\n",
              "      display: none;\n",
              "      fill: #1967D2;\n",
              "      height: 32px;\n",
              "      padding: 0 0 0 0;\n",
              "      width: 32px;\n",
              "    }\n",
              "\n",
              "    .colab-df-convert:hover {\n",
              "      background-color: #E2EBFA;\n",
              "      box-shadow: 0px 1px 2px rgba(60, 64, 67, 0.3), 0px 1px 3px 1px rgba(60, 64, 67, 0.15);\n",
              "      fill: #174EA6;\n",
              "    }\n",
              "\n",
              "    [theme=dark] .colab-df-convert {\n",
              "      background-color: #3B4455;\n",
              "      fill: #D2E3FC;\n",
              "    }\n",
              "\n",
              "    [theme=dark] .colab-df-convert:hover {\n",
              "      background-color: #434B5C;\n",
              "      box-shadow: 0px 1px 3px 1px rgba(0, 0, 0, 0.15);\n",
              "      filter: drop-shadow(0px 1px 2px rgba(0, 0, 0, 0.3));\n",
              "      fill: #FFFFFF;\n",
              "    }\n",
              "  </style>\n",
              "\n",
              "      <script>\n",
              "        const buttonEl =\n",
              "          document.querySelector('#df-6a3aa6d6-d3ec-4003-be9b-6035e2b71bfa button.colab-df-convert');\n",
              "        buttonEl.style.display =\n",
              "          google.colab.kernel.accessAllowed ? 'block' : 'none';\n",
              "\n",
              "        async function convertToInteractive(key) {\n",
              "          const element = document.querySelector('#df-6a3aa6d6-d3ec-4003-be9b-6035e2b71bfa');\n",
              "          const dataTable =\n",
              "            await google.colab.kernel.invokeFunction('convertToInteractive',\n",
              "                                                     [key], {});\n",
              "          if (!dataTable) return;\n",
              "\n",
              "          const docLinkHtml = 'Like what you see? Visit the ' +\n",
              "            '<a target=\"_blank\" href=https://colab.research.google.com/notebooks/data_table.ipynb>data table notebook</a>'\n",
              "            + ' to learn more about interactive tables.';\n",
              "          element.innerHTML = '';\n",
              "          dataTable['output_type'] = 'display_data';\n",
              "          await google.colab.output.renderOutput(dataTable, element);\n",
              "          const docLink = document.createElement('div');\n",
              "          docLink.innerHTML = docLinkHtml;\n",
              "          element.appendChild(docLink);\n",
              "        }\n",
              "      </script>\n",
              "    </div>\n",
              "  </div>\n",
              "  "
            ]
          },
          "metadata": {},
          "execution_count": 22
        }
      ]
    },
    {
      "cell_type": "code",
      "source": [
        "def plot_predict(train, valid):\n",
        "  plot = plt.figure(figsize=(17, 7))\n",
        "  plot = plt.plot(train['Consumption'], label = \"Traning\", c = \"b\")\n",
        "  plot = plt.plot(valid['Consumption'], label = \"Validation\", c = \"g\")\n",
        "  plot = plt.plot(valid['Predictions'], label = \"Predict\", c = \"r\")\n",
        "  plot = plt.legend()\n",
        "  plot = plt.show()\n",
        "\n",
        "  return plot"
      ],
      "metadata": {
        "id": "JjDujAjHeB2o"
      },
      "execution_count": null,
      "outputs": []
    },
    {
      "cell_type": "code",
      "source": [
        "plot_predict_70_30 = plot_predict(train_70, valid_30)\n",
        "plot_predict_70_30"
      ],
      "metadata": {
        "colab": {
          "base_uri": "https://localhost:8080/",
          "height": 428
        },
        "id": "a4HPA80UeFWE",
        "outputId": "c9e19590-1da8-49d0-a9e4-0b98e23b7b4c"
      },
      "execution_count": null,
      "outputs": [
        {
          "output_type": "display_data",
          "data": {
            "text/plain": [
              "<Figure size 1224x504 with 1 Axes>"
            ],
            "image/png": "[encoded data removed]"
          },
          "metadata": {
            "needs_background": "light"
          }
        }
      ]
    }
  ]
}